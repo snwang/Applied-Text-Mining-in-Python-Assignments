{
 "cells": [
  {
   "cell_type": "markdown",
   "metadata": {},
   "source": [
    "---\n",
    "\n",
    "_You are currently looking at **version 1.1** of this notebook. To download notebooks and datafiles, as well as get help on Jupyter notebooks in the Coursera platform, visit the [Jupyter Notebook FAQ](https://www.coursera.org/learn/python-text-mining/resources/d9pwm) course resource._\n",
    "\n",
    "---"
   ]
  },
  {
   "cell_type": "markdown",
   "metadata": {},
   "source": [
    "# Assignment 1\n",
    "\n",
    "In this assignment, you'll be working with messy medical data and using regex to extract relevant infromation from the data. \n",
    "\n",
    "Each line of the `dates.txt` file corresponds to a medical note. Each note has a date that needs to be extracted, but each date is encoded in one of many formats.\n",
    "\n",
    "The goal of this assignment is to correctly identify all of the different date variants encoded in this dataset and to properly normalize and sort the dates. \n",
    "\n",
    "Here is a list of some of the variants you might encounter in this dataset:\n",
    "* 04/20/2009; 04/20/09; 4/20/09; 4/3/09\n",
    "* Mar-20-2009; Mar 20, 2009; March 20, 2009;  Mar. 20, 2009; Mar 20 2009;\n",
    "* 20 Mar 2009; 20 March 2009; 20 Mar. 2009; 20 March, 2009\n",
    "* Mar 20th, 2009; Mar 21st, 2009; Mar 22nd, 2009\n",
    "* Feb 2009; Sep 2009; Oct 2010\n",
    "* 6/2008; 12/2009\n",
    "* 2009; 2010\n",
    "\n",
    "Once you have extracted these date patterns from the text, the next step is to sort them in ascending chronological order accoring to the following rules:\n",
    "* Assume all dates in xx/xx/xx format are mm/dd/yy\n",
    "* Assume all dates where year is encoded in only two digits are years from the 1900's (e.g. 1/5/89 is January 5th, 1989)\n",
    "* If the day is missing (e.g. 9/2009), assume it is the first day of the month (e.g. September 1, 2009).\n",
    "* If the month is missing (e.g. 2010), assume it is the first of January of that year (e.g. January 1, 2010).\n",
    "* Watch out for potential typos as this is a raw, real-life derived dataset.\n",
    "\n",
    "With these rules in mind, find the correct date in each note and return a pandas Series in chronological order of the original Series' indices.\n",
    "\n",
    "For example if the original series was this:\n",
    "\n",
    "    0    1999\n",
    "    1    2010\n",
    "    2    1978\n",
    "    3    2015\n",
    "    4    1985\n",
    "\n",
    "Your function should return this:\n",
    "\n",
    "    0    2\n",
    "    1    4\n",
    "    2    0\n",
    "    3    1\n",
    "    4    3\n",
    "\n",
    "Your score will be calculated using [Kendall's tau](https://en.wikipedia.org/wiki/Kendall_rank_correlation_coefficient), a correlation measure for ordinal data.\n",
    "\n",
    "*This function should return a Series of length 500 and dtype int.*"
   ]
  },
  {
   "cell_type": "code",
   "execution_count": 26,
   "metadata": {},
   "outputs": [
    {
     "data": {
      "text/plain": [
       "0         03/25/93 Total time of visit (in minutes):\\n\n",
       "1                       6/18/85 Primary Care Doctor:\\n\n",
       "2    sshe plans to move as of 7/8/71 In-Home Servic...\n",
       "3                7 on 9/27/75 Audit C Score Current:\\n\n",
       "4    2/6/96 sleep studyPain Treatment Pain Level (N...\n",
       "5                    .Per 7/06/79 Movement D/O note:\\n\n",
       "6    4, 5/18/78 Patient's thoughts about current su...\n",
       "7    10/24/89 CPT Code: 90801 - Psychiatric Diagnos...\n",
       "8                         3/7/86 SOS-10 Total Score:\\n\n",
       "9             (4/10/71)Score-1Audit C Score Current:\\n\n",
       "dtype: object"
      ]
     },
     "execution_count": 26,
     "metadata": {},
     "output_type": "execute_result"
    }
   ],
   "source": [
    "import pandas as pd\n",
    "import re\n",
    "import numpy as np\n",
    "\n",
    "doc = []\n",
    "with open('dates.txt') as file:\n",
    "    for line in file:\n",
    "        doc.append(line)\n",
    "\n",
    "df = pd.Series(doc)\n",
    "df.head(10)"
   ]
  },
  {
   "cell_type": "code",
   "execution_count": 2,
   "metadata": {
    "collapsed": true
   },
   "outputs": [],
   "source": [
    "# #def date_sorter():\n",
    "#         # Your code here\n",
    "#     # Full date\n",
    "# global df\n",
    "# dates_extracted = df.str.extractall(r'(?P<origin>(?P<month>\\d?\\d)[/|-](?P<day>\\d?\\d)[/|-](?P<year>\\d{4}))')\n",
    "# index_left = ~df.index.isin([x[0] for x in dates_extracted.index])\n",
    "# dates_extracted = dates_extracted.append(df[index_left].str.extractall(r'(?P<origin>(?P<month>\\d?\\d)[/|-](?P<day>([0-2]?[0-9])|([3][01]))[/|-](?P<year>\\d{2}))'))\n",
    "# index_left = ~df.index.isin([x[0] for x in dates_extracted.index])\n",
    "# del dates_extracted[3]\n",
    "# del dates_extracted[4]\n",
    "# dates_extracted = dates_extracted.append(df[index_left].str.extractall(r'(?P<origin>(?P<day>\\d?\\d) ?(?P<month>[a-zA-Z]{3,})\\.?,? (?P<year>\\d{4}))'))\n",
    "# index_left = ~df.index.isin([x[0] for x in dates_extracted.index])\n",
    "# dates_extracted = dates_extracted.append(df[index_left].str.extractall(r'(?P<origin>(?P<month>[a-zA-Z]{3,})\\.?-? ?(?P<day>\\d\\d?)(th|nd|st)?,?-? ?(?P<year>\\d{4}))'))\n",
    "# del dates_extracted[3]\n",
    "# index_left = ~df.index.isin([x[0] for x in dates_extracted.index])\n",
    "\n",
    "# # Without day\n",
    "# dates_without_day = df[index_left].str.extractall('(?P<origin>(?P<month>[A-Z][a-z]{2,}),?\\.? (?P<year>\\d{4}))')\n",
    "# dates_without_day = dates_without_day.append(df[index_left].str.extractall(r'(?P<origin>(?P<month>\\d\\d?)/(?P<year>\\d{4}))'))\n",
    "# dates_without_day['day'] = 1\n",
    "# dates_extracted = dates_extracted.append(dates_without_day)\n",
    "# index_left = ~df.index.isin([x[0] for x in dates_extracted.index])\n",
    "\n",
    "# # Only year\n",
    "# dates_only_year = df[index_left].str.extractall(r'(?P<origin>(?P<year>\\d{4}))')\n",
    "# dates_only_year['day'] = 1\n",
    "# dates_only_year['month'] = 1\n",
    "# dates_extracted = dates_extracted.append(dates_only_year)\n",
    "# index_left = ~df.index.isin([x[0] for x in dates_extracted.index])\n",
    "\n",
    "# # Year\n",
    "# dates_extracted['year'] = dates_extracted['year'].apply(lambda x: '19' + x if len(x) == 2 else x)\n",
    "# dates_extracted['year'] = dates_extracted['year'].apply(lambda x: str(x))\n",
    "# # Month\n",
    "# dates_extracted['month'] = dates_extracted['month'].apply(lambda x: x[1:] if type(x) is str and x.startswith('0') else x)\n",
    "# month_dict = dict({'September': 9, 'Mar': 3, 'November': 11, 'Jul': 7, 'January': 1, 'December': 12,\n",
    "#                    'Feb': 2, 'May': 5, 'Aug': 8, 'Jun': 6, 'Sep': 9, 'Oct': 10, 'June': 6, 'March': 3,\n",
    "#                    'February': 2, 'Dec': 12, 'Apr': 4, 'Jan': 1, 'Janaury': 1,'August': 8, 'October': 10,\n",
    "#                    'July': 7, 'Since': 1, 'Nov': 11, 'April': 4, 'Decemeber': 12, 'Age': 8})\n",
    "# dates_extracted.replace({\"month\": month_dict}, inplace=True)\n",
    "# dates_extracted['month'] = dates_extracted['month'].apply(lambda x: str(x))\n",
    "\n",
    "# # Day\n",
    "# dates_extracted['day'] = dates_extracted['day'].apply(lambda x: str(x))\n",
    "\n",
    "# # Cleaned date\n",
    "# dates_extracted['date'] = dates_extracted['month'] + '/' + dates_extracted['day'] + '/' + dates_extracted['year']\n",
    "# dates_extracted['date'] = pd.to_datetime(dates_extracted['date'])\n",
    "\n",
    "# dates_extracted.sort_values(by='date', inplace=True)\n",
    "# df1 = pd.Series(list(dates_extracted.index.labels[0]))\n",
    "    \n",
    "# #    return df1# Your answer here\n",
    "# dates_extracted = dates_extracted.reset_index().sort_values(by='level_0')\n",
    "# dates_extracted['day'] = dates_extracted['day'].apply(int)\n",
    "# dates_extracted['month'] = dates_extracted['month'].apply(int)\n",
    "# dates_extracted['year'] = dates_extracted['year'].apply(int)\n",
    "# answers = dates_extracted.apply(lambda x: str(x['year']) + \"-\" + str(x['month']) + \"-\" + str(x['day']), axis=1).tolist()"
   ]
  },
  {
   "cell_type": "code",
   "execution_count": 37,
   "metadata": {
    "collapsed": true
   },
   "outputs": [],
   "source": [
    "def get_date_regex():\n",
    "    sep_l = r'[, \\/\\-\\.]{1,2}'\n",
    "    sep_d = r'[\\/\\- ]'\n",
    "\n",
    "    month_l = r'([Jj]an\\.?[a-z]*|[Ff]eb\\.?[a-z]*|[Mm]ar\\.?[a-z]*|[Aa]pr\\.?[a-z]*|[Mm]ay\\.?[a-z]*|[Jj]un\\.?[a-z]*|[Jj]ul\\.?[a-z]*|[Aa]ug\\.?[a-z]*|[Ss]ep\\.?(tember)?|[Oo]ct\\.?[a-z]*|[Nn]ov\\.?[a-z]*|[Dd]ec\\.?[a-z]*)'\n",
    "    month_d = r'(11|12|10|0?[123456789])'\n",
    "\n",
    "    day = r'([0123]?\\d)'\n",
    "    year_l = f'y?((1|2)\\d{{3}})'\n",
    "    year = f\"({year_l}|(\\d{{2}}))\"\n",
    "\n",
    "    date = f\"([^\\w\\-\\.\\/]|^|\\()\"\\\n",
    "    \"(\"\\\n",
    "        \"(\"\\\n",
    "            \"(\"\\\n",
    "                f\"(?P<mon_day>{month_d}{sep_d}{day}{sep_d})|\"\\\n",
    "                f\"(?P<day_mon>{day}{sep_d}{month_d}{sep_d})|\"\\\n",
    "                f\"(?P<MON_day>{month_l}{sep_l}{day}(th|nd|st)?{sep_l})|\"\\\n",
    "                f\"(?P<day_MON>{day}(th|nd|st)?{sep_l}{month_l}{sep_l})|\"\\\n",
    "                f\"(?P<MON>{month_l}{sep_l})|\"\\\n",
    "                f\"(?P<mon>{month_d}{sep_d})\"\\\n",
    "                \")\"\\\n",
    "            f\"(?P<year>{year})\"\\\n",
    "        \")|\"\\\n",
    "        f\"(?P<year_l>{year_l})\"\\\n",
    "    \")\"\\\n",
    "    f\"([^\\w\\/]|$|[\\),\\.\\;])\"\n",
    "    return date\n",
    "def remove_beginning_error(text):\n",
    "    month_l = r'(Jan\\.?[a-z]*|Feb\\.?[a-z]*|Mar\\.?[a-z]*|Apr\\.?[a-z]*|May\\.?[a-z]*|Jun\\.?[a-z]*|Jul\\.?[a-z]*|Aug\\.?[a-z]*|Sep\\.?(tember)?|Oct\\.?[a-z]*|Nov\\.?[a-z]*|Dec\\.?[a-z]*)'\n",
    "    day = r'([0123]?\\d)'\n",
    "    m = re.match(f'^(?P<letter>[0-9a-zA-Z\\.])({month_l})', text)\n",
    "    if m is not None:\n",
    "        letter = m.group('letter')\n",
    "        text = re.sub(f\"^{letter}\", f\"{letter} \", text)\n",
    "        #print(f\"^{letter}\", f\"{letter} \")\n",
    "    m = re.match(f'^(?P<letter>[a-zA-Z\\.])[0-3]\\d', text)\n",
    "    \n",
    "    if m is not None:\n",
    "        letter = m.group('letter')\n",
    "        text = re.sub(f\"^{letter}\", f\"{letter} \", text)\n",
    "        #print(f\"^{letter}\", f\"{letter} \")\n",
    "    return text\n",
    "\n",
    "def normalize_df(df):\n",
    "    \n",
    "    normalize_dict = {'-8/2000': ' 8/2000', \n",
    "                      '011/14/83':'11/14/83',\n",
    "                      '.2010': ' 2010',\n",
    "                      'n4/2004': ' 4/2004',\n",
    "                      '.Feb 18, 1994': 'Feb 18, 1994',\n",
    "                      '11, 2013': '11-2013',\n",
    "                      \n",
    "                      \n",
    "                      'Age 16, 1991': 'Aug 16, 1991'\n",
    "                      \n",
    "                      \n",
    "                     }\n",
    "    def normalize_text(text):\n",
    "        \n",
    "        for key,value in normalize_dict.items():\n",
    "            text = re.sub(key, value, text)\n",
    "        text = remove_beginning_error(text)\n",
    "        return text\n",
    "    \n",
    "    df = df.apply(normalize_text)\n",
    "    \n",
    "    return df"
   ]
  },
  {
   "cell_type": "code",
   "execution_count": 8,
   "metadata": {
    "collapsed": true
   },
   "outputs": [],
   "source": [
    "def parse_extract_date_parts(matched):\n",
    "\n",
    "    month = None\n",
    "    day = None\n",
    "    year = None\n",
    "    \n",
    "    if matched['mon_day'] == matched['mon_day']:\n",
    "        month = matched[5]\n",
    "        day = matched[6]\n",
    "    if matched['day_mon'] == matched['day_mon']:\n",
    "        month = matched[9]\n",
    "        day = matched[8]\n",
    "    if matched['day_MON'] == matched['day_MON']:\n",
    "        month = matched[18]\n",
    "        day = matched[16]\n",
    "    if matched['MON_day'] == matched['MON_day']:\n",
    "        month = matched[11]\n",
    "        day = matched[13]\n",
    "    if matched['MON'] == matched['MON']:\n",
    "        month = matched[21]\n",
    "    if matched['mon'] == matched['mon']:\n",
    "        month = matched[24]\n",
    "    if matched['year'] == matched['year']:\n",
    "        year = matched['year']\n",
    "    if matched['year_l'] == matched['year_l']:\n",
    "        year = matched[31]\n",
    "    \n",
    "    return {'month':month, 'day':day, 'year':year}"
   ]
  },
  {
   "cell_type": "code",
   "execution_count": 9,
   "metadata": {
    "collapsed": true
   },
   "outputs": [],
   "source": [
    "def month_letter2number(letter):\n",
    "    if not isinstance(letter, str):\n",
    "        return letter\n",
    "    if len(letter) < 3:\n",
    "        return int(letter)\n",
    "    letter = letter.lower()\n",
    "    letter_start = letter[0:3]\n",
    "    letters = ['jan', 'feb', 'mar', 'apr', 'may', 'jun', 'jul', 'aug', 'sep', 'oct', 'nov', 'dec']\n",
    "    numbers = list(range(1,13))\n",
    "    let2num_dict = dict(zip(letters, numbers))\n",
    "    \n",
    "    if letter_start in letters:\n",
    "        return let2num_dict[letter[0:3]]\n",
    "    \n",
    "    raise Exception(f\"{letter} could not be converted to month number\")\n",
    "    return "
   ]
  },
  {
   "cell_type": "code",
   "execution_count": 40,
   "metadata": {
    "collapsed": true,
    "scrolled": true
   },
   "outputs": [],
   "source": [
    "def date_sorter():\n",
    "    global df\n",
    "    df = normalize_df(df)\n",
    "    date = get_date_regex()\n",
    "    matched = df.str.extractall(date, flags=re.IGNORECASE)\n",
    "    matched = matched.reset_index()\n",
    "\n",
    "    month_day_year = matched.apply(lambda x: parse_extract_date_parts(x), axis=1)\n",
    "    matched[['day','month','year']] =pd.DataFrame.from_records(month_day_year)\n",
    "    matched['month'] = matched['month'].apply(month_letter2number)\n",
    "\n",
    "    matched['cnt'] = matched.apply(lambda x: sum([item is not None for item in [x['month'] , x['day'], x['year']]]), axis=1)\n",
    "\n",
    "    date_match =matched.groupby('level_0').apply(lambda x: x.sort_values(by=['cnt', 'year'], ascending=False).head(1))[['day', 'month', 'year']]\n",
    "\n",
    "    date_match['day'] = date_match['day'].apply(lambda x: int(x) if x is not None  else 1)\n",
    "    date_match['month'] = date_match['month'].apply(lambda x: int(x) if x is not None and x == x else 1)\n",
    "    date_match['year'] = date_match['year'].apply(lambda x: int(x) + 1900 if int(x) < 100 else int(x))\n",
    "\n",
    "\n",
    "    index = date_match.sort_values(by=['year', 'month','day']).reset_index()['level_0']\n",
    "\n",
    "    return index\n"
   ]
  },
  {
   "cell_type": "code",
   "execution_count": 142,
   "metadata": {
    "collapsed": true
   },
   "outputs": [],
   "source": []
  },
  {
   "cell_type": "code",
   "execution_count": 143,
   "metadata": {
    "collapsed": true
   },
   "outputs": [],
   "source": []
  },
  {
   "cell_type": "code",
   "execution_count": 128,
   "metadata": {
    "collapsed": true
   },
   "outputs": [],
   "source": []
  },
  {
   "cell_type": "code",
   "execution_count": 43,
   "metadata": {
    "collapsed": true,
    "scrolled": true
   },
   "outputs": [],
   "source": [
    "# my_answer = date_match.apply(lambda x: str(x['year']) + \"-\" + str(x['month']) + \"-\" + str(x['day']), axis=1).tolist()\n",
    "\n",
    "# same = [answers[id] == my_answer[id] for id in list(range(0,500))]\n",
    "\n",
    "# ids = pd.DataFrame({\"same\":same, 'id':list(range(0,500))}).query('not same')['id'].tolist()"
   ]
  },
  {
   "cell_type": "code",
   "execution_count": 44,
   "metadata": {
    "collapsed": true
   },
   "outputs": [],
   "source": [
    "# len(ids)\n",
    "\n",
    "# [(my_answer[id], answers[id], df[id]) for id in ids]"
   ]
  },
  {
   "cell_type": "code",
   "execution_count": 45,
   "metadata": {
    "collapsed": true
   },
   "outputs": [],
   "source": [
    "# [text for text in df if 'Age' in text ]"
   ]
  },
  {
   "cell_type": "code",
   "execution_count": null,
   "metadata": {
    "collapsed": true,
    "scrolled": true
   },
   "outputs": [],
   "source": [
    "#dates = date_match.apply(lambda x: f\"{x['month']}-{x['day']}-{x['year']}\", axis=1).tolist()\n",
    "\n",
    "#list(zip(dates, df))"
   ]
  },
  {
   "cell_type": "code",
   "execution_count": null,
   "metadata": {
    "collapsed": true
   },
   "outputs": [],
   "source": [
    "# [df[id] for id in list(set(list(range(0,499))).difference(set(index.tolist()) ))]"
   ]
  },
  {
   "cell_type": "code",
   "execution_count": null,
   "metadata": {
    "collapsed": true
   },
   "outputs": [],
   "source": [
    "#date_sorter(df)\n",
    "# len(index)"
   ]
  },
  {
   "cell_type": "code",
   "execution_count": null,
   "metadata": {
    "collapsed": true
   },
   "outputs": [],
   "source": [
    "# month_ids = matched.query('month!=month')['level_0'].tolist()\n",
    "# day_ids = [ id for id in matched.query('day!=day')['level_0'].tolist() if id not in month_ids]\n",
    "# [df[id] for id in day_ids]\n",
    "\n",
    "# month_ids\n",
    "\n",
    "# matched.query('level_0 == 80').sort_values(by=['cnt', 'year'], ascending=False).head(1)['']"
   ]
  }
 ],
 "metadata": {
  "coursera": {
   "course_slug": "python-text-mining",
   "graded_item_id": "LvcWI",
   "launcher_item_id": "krne9",
   "part_id": "Mkp1I"
  },
  "kernelspec": {
   "display_name": "Python 3",
   "language": "python",
   "name": "python3"
  },
  "language_info": {
   "codemirror_mode": {
    "name": "ipython",
    "version": 3
   },
   "file_extension": ".py",
   "mimetype": "text/x-python",
   "name": "python",
   "nbconvert_exporter": "python",
   "pygments_lexer": "ipython3",
   "version": "3.6.2"
  }
 },
 "nbformat": 4,
 "nbformat_minor": 2
}
